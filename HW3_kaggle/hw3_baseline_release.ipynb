{
 "cells": [
  {
   "cell_type": "code",
   "execution_count": 5,
   "metadata": {},
   "outputs": [],
   "source": [
    "'''\n",
    "Import necessary library\n",
    "'''\n",
    "\n",
    "import pandas as pd\n",
    "from sklearn.preprocessing import OneHotEncoder,LabelEncoder\n",
    "import numpy as np\n",
    "from sklearn.ensemble import RandomForestClassifier\n",
    "from sklearn.preprocessing import StandardScaler\n",
    "from imblearn.over_sampling import RandomOverSampler\n",
    "from imblearn.under_sampling import RandomUnderSampler\n",
    "\n"
   ]
  },
  {
   "cell_type": "code",
   "execution_count": 6,
   "metadata": {},
   "outputs": [
    {
     "name": "stdout",
     "output_type": "stream",
     "text": [
      "47438 25545\n"
     ]
    }
   ],
   "source": [
    "'''\n",
    "Read input data\n",
    "'''\n",
    "train_data = pd.read_csv('training_data.csv',header=None)\n",
    "test_data = pd.read_csv('testing_data.csv',header=None)\n",
    "train_size = len(train_data)\n",
    "test_size = len(test_data)\n",
    "print(train_size,test_size)"
   ]
  },
  {
   "cell_type": "code",
   "execution_count": 7,
   "metadata": {},
   "outputs": [],
   "source": [
    "'''\n",
    "Deal with input data\n",
    "'''\n",
    "test_index = test_data.loc[:,0]\n",
    "test_data = test_data.drop(0,axis = 1)\n",
    "def test_rename(x):\n",
    "    return x+1\n",
    "test_data = test_data.rename(mapper=test_rename,axis=1)\n",
    "train_label = train_data.iloc[:,1]\n",
    "train_data_d = train_data.drop(labels=[0,1],axis=1)"
   ]
  },
  {
   "cell_type": "code",
   "execution_count": 8,
   "metadata": {},
   "outputs": [],
   "source": [
    "concated_df = pd.concat((train_data_d,test_data))"
   ]
  },
  {
   "cell_type": "code",
   "execution_count": 9,
   "metadata": {},
   "outputs": [],
   "source": [
    "cat_feature = [2,5,6,7,8,9,10,11,13,14,15,24,25,27]\n",
    "num_feature = [3,4,12,16,17,18,19,20,21,22,23,26,28]"
   ]
  },
  {
   "cell_type": "code",
   "execution_count": 10,
   "metadata": {},
   "outputs": [],
   "source": [
    "'''\n",
    "Deal with missing value\n",
    "Fill category feature with mode, numeric feature with mean\n",
    "'''\n",
    "for col in cat_feature:\n",
    "    concated_df[col] = concated_df[col].fillna(concated_df[col].mode()[0])\n",
    "for col in num_feature:\n",
    "    concated_df[col] = concated_df[col].fillna(concated_df[col].mean())\n",
    "concated_df = pd.get_dummies(concated_df,columns=cat_feature)"
   ]
  },
  {
   "cell_type": "code",
   "execution_count": 11,
   "metadata": {},
   "outputs": [
    {
     "name": "stdout",
     "output_type": "stream",
     "text": [
      "47438 25545\n"
     ]
    }
   ],
   "source": [
    "train_data_d = concated_df.iloc[:train_size,:]\n",
    "test_data = concated_df.iloc[train_size: , : ]\n",
    "print(len(train_data_d),len(test_data) )"
   ]
  },
  {
   "cell_type": "code",
   "execution_count": 12,
   "metadata": {},
   "outputs": [],
   "source": [
    "'''\n",
    "Train/test dataframe into numpy array\n",
    "'''\n",
    "X = train_data_d.values\n",
    "y = train_label.values\n",
    "X_test = test_data.values"
   ]
  },
  {
   "cell_type": "code",
   "execution_count": 13,
   "metadata": {},
   "outputs": [],
   "source": [
    "'''\n",
    "Standardlize numeric feature\n",
    "'''\n",
    "std = StandardScaler()\n",
    "std.fit(X[:,:14])\n",
    "X[:,:14] = std.transform( X[:,:14] )\n",
    "X_test[:,:14] = std.transform(X_test[:,:14])"
   ]
  },
  {
   "cell_type": "code",
   "execution_count": null,
   "metadata": {},
   "outputs": [],
   "source": []
  },
  {
   "cell_type": "code",
   "execution_count": 25,
   "metadata": {},
   "outputs": [
    {
     "data": {
      "text/plain": [
       "RandomForestClassifier(bootstrap=True, class_weight=None, criterion='gini',\n",
       "            max_depth=None, max_features='auto', max_leaf_nodes=None,\n",
       "            min_impurity_decrease=0.0, min_impurity_split=None,\n",
       "            min_samples_leaf=1, min_samples_split=2,\n",
       "            min_weight_fraction_leaf=0.0, n_estimators=100, n_jobs=4,\n",
       "            oob_score=False, random_state=386, verbose=0, warm_start=False)"
      ]
     },
     "execution_count": 25,
     "metadata": {},
     "output_type": "execute_result"
    }
   ],
   "source": [
    "'''\n",
    "Train model\n",
    "'''\n",
    "clf = RandomForestClassifier(n_estimators = 100 , n_jobs = 4,random_state=386)\n",
    "clf.fit(X , y)"
   ]
  },
  {
   "cell_type": "code",
   "execution_count": 26,
   "metadata": {},
   "outputs": [],
   "source": [
    "'''\n",
    "Make prediction\n",
    "'''\n",
    "pred = clf.predict(X_test)"
   ]
  },
  {
   "cell_type": "code",
   "execution_count": 27,
   "metadata": {},
   "outputs": [],
   "source": [
    "'''\n",
    "Output prediction\n",
    "'''\n",
    "with open('super_easy_baseline.csv','w') as f:\n",
    "    f.write('Id,Prediction\\n')\n",
    "    for idx , p in zip(test_index , pred):\n",
    "        f.write('{},{}\\n'.format(idx,p))"
   ]
  },
  {
   "cell_type": "code",
   "execution_count": null,
   "metadata": {},
   "outputs": [],
   "source": []
  }
 ],
 "metadata": {
  "kernelspec": {
   "display_name": "Python 3",
   "language": "python",
   "name": "python3"
  },
  "language_info": {
   "codemirror_mode": {
    "name": "ipython",
    "version": 3
   },
   "file_extension": ".py",
   "mimetype": "text/x-python",
   "name": "python",
   "nbconvert_exporter": "python",
   "pygments_lexer": "ipython3",
   "version": "3.6.5"
  }
 },
 "nbformat": 4,
 "nbformat_minor": 2
}
